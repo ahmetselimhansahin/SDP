{
 "cells": [
  {
   "cell_type": "code",
   "execution_count": 4,
   "id": "e295d17d",
   "metadata": {},
   "outputs": [],
   "source": [
    "from selenium import webdriver\n",
    "from time import sleep\n",
    "# Data manipulation\n",
    "import pandas as pd\n",
    "# Visualization\n",
    "import matplotlib.pyplot as plt\n",
    "import seaborn as sns\n",
    "from selenium.webdriver.support.ui import WebDriverWait\n",
    "from selenium.webdriver.common.by import By\n",
    "from selenium.webdriver.support import expected_conditions as EC\n"
   ]
  },
  {
   "cell_type": "code",
   "execution_count": 19,
   "id": "57d48228",
   "metadata": {},
   "outputs": [
    {
     "name": "stderr",
     "output_type": "stream",
     "text": [
      "C:\\Users\\Selimhan\\AppData\\Local\\Temp\\ipykernel_13784\\2221806090.py:1: DeprecationWarning: executable_path has been deprecated, please pass in a Service object\n",
      "  driver = webdriver.Chrome(executable_path=\"C:/Users/Selimhan/AppData/Local/Temp/Rar$EXa13852.31167/chromedriver.exe\")\n"
     ]
    }
   ],
   "source": [
    "driver = webdriver.Chrome(executable_path=\"C:/Users/Selimhan/AppData/Local/Temp/Rar$EXa13852.31167/chromedriver.exe\")\n",
    "migros_arama = \"residence\"\n",
    "\n",
    "driver.get(\"https://www.sahibinden.com/\")\n",
    "sleep(4)\n",
    "\n",
    "\n",
    "#arama\n",
    "driver.find_element(\"xpath\",'//*[@id=\"searchText\"]')\\\n",
    "    .send_keys(migros_arama)\n",
    "driver.find_element(\"xpath\",'//*[@id=\"searchSuggestionForm\"]/button')\\\n",
    "    .click()\n",
    "sleep(3)\n"
   ]
  },
  {
   "cell_type": "code",
   "execution_count": 46,
   "id": "2c3c25e0",
   "metadata": {},
   "outputs": [
    {
     "name": "stderr",
     "output_type": "stream",
     "text": [
      "C:\\Users\\Selimhan\\AppData\\Local\\Temp\\ipykernel_13784\\2979325550.py:1: DeprecationWarning: executable_path has been deprecated, please pass in a Service object\n",
      "  driver = webdriver.Chrome(executable_path=\"C:/Users/Selimhan/AppData/Local/Temp/Rar$EXa13852.31167/chromedriver.exe\")\n"
     ]
    },
    {
     "ename": "NoSuchElementException",
     "evalue": "Message: no such element: Unable to locate element: {\"method\":\"xpath\",\"selector\":\"//*[@id=\"close-button\"]/div/img\"}\n  (Session info: chrome=107.0.5304.107)\nStacktrace:\nBacktrace:\n\tOrdinal0 [0x00AEACD3+2075859]\n\tOrdinal0 [0x00A7EE61+1633889]\n\tOrdinal0 [0x0097B7BD+571325]\n\tOrdinal0 [0x009AAC2F+764975]\n\tOrdinal0 [0x009AAE1B+765467]\n\tOrdinal0 [0x009DD0F2+970994]\n\tOrdinal0 [0x009C7364+881508]\n\tOrdinal0 [0x009DB56A+963946]\n\tOrdinal0 [0x009C7136+880950]\n\tOrdinal0 [0x0099FEFD+720637]\n\tOrdinal0 [0x009A0F3F+724799]\n\tGetHandleVerifier [0x00D9EED2+2769538]\n\tGetHandleVerifier [0x00D90D95+2711877]\n\tGetHandleVerifier [0x00B7A03A+521194]\n\tGetHandleVerifier [0x00B78DA0+516432]\n\tOrdinal0 [0x00A8682C+1665068]\n\tOrdinal0 [0x00A8B128+1683752]\n\tOrdinal0 [0x00A8B215+1683989]\n\tOrdinal0 [0x00A96484+1729668]\n\tBaseThreadInitThunk [0x7749FEF9+25]\n\tRtlGetAppContainerNamedObjectPath [0x775E7BBE+286]\n\tRtlGetAppContainerNamedObjectPath [0x775E7B8E+238]\n",
     "output_type": "error",
     "traceback": [
      "\u001b[1;31m---------------------------------------------------------------------------\u001b[0m",
      "\u001b[1;31mNoSuchElementException\u001b[0m                    Traceback (most recent call last)",
      "Input \u001b[1;32mIn [46]\u001b[0m, in \u001b[0;36m<cell line: 20>\u001b[1;34m()\u001b[0m\n\u001b[0;32m     16\u001b[0m driver\u001b[38;5;241m.\u001b[39mfind_element(\u001b[38;5;124m\"\u001b[39m\u001b[38;5;124mxpath\u001b[39m\u001b[38;5;124m\"\u001b[39m,\u001b[38;5;124m'\u001b[39m\u001b[38;5;124m/html/body\u001b[39m\u001b[38;5;124m'\u001b[39m)\\\n\u001b[0;32m     17\u001b[0m     \u001b[38;5;241m.\u001b[39mclick()\n\u001b[0;32m     18\u001b[0m sleep(\u001b[38;5;241m3\u001b[39m)\n\u001b[1;32m---> 20\u001b[0m \u001b[43mdriver\u001b[49m\u001b[38;5;241;43m.\u001b[39;49m\u001b[43mfind_element\u001b[49m\u001b[43m(\u001b[49m\u001b[38;5;124;43m\"\u001b[39;49m\u001b[38;5;124;43mxpath\u001b[39;49m\u001b[38;5;124;43m\"\u001b[39;49m\u001b[43m,\u001b[49m\u001b[38;5;124;43m'\u001b[39;49m\u001b[38;5;124;43m//*[@id=\u001b[39;49m\u001b[38;5;124;43m\"\u001b[39;49m\u001b[38;5;124;43mclose-button\u001b[39;49m\u001b[38;5;124;43m\"\u001b[39;49m\u001b[38;5;124;43m]/div/img\u001b[39;49m\u001b[38;5;124;43m'\u001b[39;49m\u001b[43m)\u001b[49m\\\n\u001b[0;32m     21\u001b[0m     \u001b[38;5;241m.\u001b[39mclick()\n\u001b[0;32m     22\u001b[0m sleep(\u001b[38;5;241m3\u001b[39m)\n\u001b[0;32m     24\u001b[0m \u001b[38;5;66;03m#WebDriverWait(driver, 2).until(EC.element_to_be_clickable((By.XPATH,'//*[@id=\"close-button\"]')))\u001b[39;00m\n\u001b[0;32m     25\u001b[0m \u001b[38;5;66;03m#Next = driver.find_element_by_xpath(\"//input[@type='button' and @class='button']\")\u001b[39;00m\n\u001b[0;32m     26\u001b[0m \u001b[38;5;66;03m#Next.click()\u001b[39;00m\n\u001b[1;32m   (...)\u001b[0m\n\u001b[0;32m     30\u001b[0m \n\u001b[0;32m     31\u001b[0m \u001b[38;5;66;03m#arama\u001b[39;00m\n",
      "File \u001b[1;32mD:\\Programs\\Anaconda\\lib\\site-packages\\selenium\\webdriver\\remote\\webdriver.py:861\u001b[0m, in \u001b[0;36mWebDriver.find_element\u001b[1;34m(self, by, value)\u001b[0m\n\u001b[0;32m    858\u001b[0m     by \u001b[38;5;241m=\u001b[39m By\u001b[38;5;241m.\u001b[39mCSS_SELECTOR\n\u001b[0;32m    859\u001b[0m     value \u001b[38;5;241m=\u001b[39m \u001b[38;5;124m'\u001b[39m\u001b[38;5;124m[name=\u001b[39m\u001b[38;5;124m\"\u001b[39m\u001b[38;5;132;01m%s\u001b[39;00m\u001b[38;5;124m\"\u001b[39m\u001b[38;5;124m]\u001b[39m\u001b[38;5;124m'\u001b[39m \u001b[38;5;241m%\u001b[39m value\n\u001b[1;32m--> 861\u001b[0m \u001b[38;5;28;01mreturn\u001b[39;00m \u001b[38;5;28;43mself\u001b[39;49m\u001b[38;5;241;43m.\u001b[39;49m\u001b[43mexecute\u001b[49m\u001b[43m(\u001b[49m\u001b[43mCommand\u001b[49m\u001b[38;5;241;43m.\u001b[39;49m\u001b[43mFIND_ELEMENT\u001b[49m\u001b[43m,\u001b[49m\u001b[43m \u001b[49m\u001b[43m{\u001b[49m\u001b[38;5;124;43m\"\u001b[39;49m\u001b[38;5;124;43musing\u001b[39;49m\u001b[38;5;124;43m\"\u001b[39;49m\u001b[43m:\u001b[49m\u001b[43m \u001b[49m\u001b[43mby\u001b[49m\u001b[43m,\u001b[49m\u001b[43m \u001b[49m\u001b[38;5;124;43m\"\u001b[39;49m\u001b[38;5;124;43mvalue\u001b[39;49m\u001b[38;5;124;43m\"\u001b[39;49m\u001b[43m:\u001b[49m\u001b[43m \u001b[49m\u001b[43mvalue\u001b[49m\u001b[43m}\u001b[49m\u001b[43m)\u001b[49m[\u001b[38;5;124m\"\u001b[39m\u001b[38;5;124mvalue\u001b[39m\u001b[38;5;124m\"\u001b[39m]\n",
      "File \u001b[1;32mD:\\Programs\\Anaconda\\lib\\site-packages\\selenium\\webdriver\\remote\\webdriver.py:444\u001b[0m, in \u001b[0;36mWebDriver.execute\u001b[1;34m(self, driver_command, params)\u001b[0m\n\u001b[0;32m    442\u001b[0m response \u001b[38;5;241m=\u001b[39m \u001b[38;5;28mself\u001b[39m\u001b[38;5;241m.\u001b[39mcommand_executor\u001b[38;5;241m.\u001b[39mexecute(driver_command, params)\n\u001b[0;32m    443\u001b[0m \u001b[38;5;28;01mif\u001b[39;00m response:\n\u001b[1;32m--> 444\u001b[0m     \u001b[38;5;28;43mself\u001b[39;49m\u001b[38;5;241;43m.\u001b[39;49m\u001b[43merror_handler\u001b[49m\u001b[38;5;241;43m.\u001b[39;49m\u001b[43mcheck_response\u001b[49m\u001b[43m(\u001b[49m\u001b[43mresponse\u001b[49m\u001b[43m)\u001b[49m\n\u001b[0;32m    445\u001b[0m     response[\u001b[38;5;124m\"\u001b[39m\u001b[38;5;124mvalue\u001b[39m\u001b[38;5;124m\"\u001b[39m] \u001b[38;5;241m=\u001b[39m \u001b[38;5;28mself\u001b[39m\u001b[38;5;241m.\u001b[39m_unwrap_value(response\u001b[38;5;241m.\u001b[39mget(\u001b[38;5;124m\"\u001b[39m\u001b[38;5;124mvalue\u001b[39m\u001b[38;5;124m\"\u001b[39m, \u001b[38;5;28;01mNone\u001b[39;00m))\n\u001b[0;32m    446\u001b[0m     \u001b[38;5;28;01mreturn\u001b[39;00m response\n",
      "File \u001b[1;32mD:\\Programs\\Anaconda\\lib\\site-packages\\selenium\\webdriver\\remote\\errorhandler.py:249\u001b[0m, in \u001b[0;36mErrorHandler.check_response\u001b[1;34m(self, response)\u001b[0m\n\u001b[0;32m    247\u001b[0m         alert_text \u001b[38;5;241m=\u001b[39m value[\u001b[38;5;124m\"\u001b[39m\u001b[38;5;124malert\u001b[39m\u001b[38;5;124m\"\u001b[39m]\u001b[38;5;241m.\u001b[39mget(\u001b[38;5;124m\"\u001b[39m\u001b[38;5;124mtext\u001b[39m\u001b[38;5;124m\"\u001b[39m)\n\u001b[0;32m    248\u001b[0m     \u001b[38;5;28;01mraise\u001b[39;00m exception_class(message, screen, stacktrace, alert_text)  \u001b[38;5;66;03m# type: ignore[call-arg]  # mypy is not smart enough here\u001b[39;00m\n\u001b[1;32m--> 249\u001b[0m \u001b[38;5;28;01mraise\u001b[39;00m exception_class(message, screen, stacktrace)\n",
      "\u001b[1;31mNoSuchElementException\u001b[0m: Message: no such element: Unable to locate element: {\"method\":\"xpath\",\"selector\":\"//*[@id=\"close-button\"]/div/img\"}\n  (Session info: chrome=107.0.5304.107)\nStacktrace:\nBacktrace:\n\tOrdinal0 [0x00AEACD3+2075859]\n\tOrdinal0 [0x00A7EE61+1633889]\n\tOrdinal0 [0x0097B7BD+571325]\n\tOrdinal0 [0x009AAC2F+764975]\n\tOrdinal0 [0x009AAE1B+765467]\n\tOrdinal0 [0x009DD0F2+970994]\n\tOrdinal0 [0x009C7364+881508]\n\tOrdinal0 [0x009DB56A+963946]\n\tOrdinal0 [0x009C7136+880950]\n\tOrdinal0 [0x0099FEFD+720637]\n\tOrdinal0 [0x009A0F3F+724799]\n\tGetHandleVerifier [0x00D9EED2+2769538]\n\tGetHandleVerifier [0x00D90D95+2711877]\n\tGetHandleVerifier [0x00B7A03A+521194]\n\tGetHandleVerifier [0x00B78DA0+516432]\n\tOrdinal0 [0x00A8682C+1665068]\n\tOrdinal0 [0x00A8B128+1683752]\n\tOrdinal0 [0x00A8B215+1683989]\n\tOrdinal0 [0x00A96484+1729668]\n\tBaseThreadInitThunk [0x7749FEF9+25]\n\tRtlGetAppContainerNamedObjectPath [0x775E7BBE+286]\n\tRtlGetAppContainerNamedObjectPath [0x775E7B8E+238]\n"
     ]
    }
   ],
   "source": [
    "\n",
    "driver = webdriver.Chrome(executable_path=\"C:/Users/Selimhan/AppData/Local/Temp/Rar$EXa13852.31167/chromedriver.exe\")\n",
    "migros_arama = \"residence\"\n",
    "\n",
    "driver.get(\"https://www.sahibinden.com/\")\n",
    "sleep(4)\n",
    "\n",
    "\n",
    "#çerezleri kabul etme\n",
    "driver.find_element(\"xpath\",'//*[@id=\"onetrust-accept-btn-handler\"]')\\\n",
    "    .click()\n",
    "sleep(3)\n",
    "\n",
    "\n",
    "#bosluga tikla\n",
    "\n",
    "driver.find_element(\"xpath\",'/html/body')\\\n",
    "    .click()\n",
    "sleep(3)\n",
    "\n",
    "driver.find_element(\"xpath\",'//*[@id=\"close-button\"]/div/img')\\\n",
    "    .click()\n",
    "sleep(3)\n",
    "\n",
    "#WebDriverWait(driver, 2).until(EC.element_to_be_clickable((By.XPATH,'//*[@id=\"close-button\"]')))\n",
    "#Next = driver.find_element_by_xpath(\"//input[@type='button' and @class='button']\")\n",
    "#Next.click()\n",
    "\n",
    "#WebDriverWait(driver, 20).until(EC.element_to_be_clickable((By.XPATH, \"//button[@aria-label='Close Offers Modal' and starts-with(@class, 'CloseButtonDesktop')]\"))).click()\n",
    "\n",
    "\n",
    "#arama\n",
    "driver.find_element(\"xpath\",'//*[@id=\"searchText\"]')\\\n",
    "    .send_keys(migros_arama)\n",
    "driver.find_element(\"xpath\",'//*[@id=\"searchSuggestionForm\"]/button')\\\n",
    "    .click()\n",
    "sleep(3)\n",
    "\n",
    "\n",
    "driver.execute_script(\"arguments[0].click();\", WebDriverWait(driver, 20).until(EC.element_to_be_clickable((By.XPATH, '//*[@id=\"searchResultsSearchForm\"]/div/div[3]/div[3]/div[2]/ul/li[2]/a'))))\n",
    "\n",
    "sleep(3)\n",
    "    "
   ]
  },
  {
   "cell_type": "code",
   "execution_count": null,
   "id": "42a45981",
   "metadata": {},
   "outputs": [],
   "source": [
    "\n",
    "\n"
   ]
  },
  {
   "cell_type": "code",
   "execution_count": null,
   "id": "00f2f1e8",
   "metadata": {},
   "outputs": [],
   "source": [
    "    \n",
    "item_titles = driver.find_elements_by_xpath('//*[@id=\"searchResultsTable\"]/tbody/tr[*]/td[2]')\n",
    "item_prices = driver.find_elements_by_xpath('//*[@id=\"searchResultsTable\"]/tbody/tr[*]/td[3]')\n",
    "item_loca = driver.find_elements_by_xpath('//*[@id=\"searchResultsTable\"]/tbody/tr[*]/td[5]')\n",
    "item_date = driver.find_elements_by_xpath('//*[@id=\"searchResultsTable\"]/tbody/tr[*]/td[4]')\n",
    "\n",
    "\n",
    "# boş liste\n",
    "titles_list = []\n",
    "prices_list = []\n",
    "loca_list = []\n",
    "date_list = []\n",
    "\n",
    "# Loop over the item_titles and item_prices\n",
    "for title in item_titles:\n",
    "    titles_list.append(title.text)\n",
    "for prices in item_prices:\n",
    "    prices_list.append(prices.text)\n",
    "for locat in item_loca:\n",
    "    loca_list.append(locat.text)\n",
    "for dat in item_date:\n",
    "    date_list.append(dat.text)\n",
    "\n",
    "\n",
    "\n",
    "\n",
    "print(titles_list)\n",
    "print(prices_list)\n",
    "print(loca_list)\n",
    "print(date_list)\n",
    "\n",
    "driver.close()"
   ]
  },
  {
   "cell_type": "code",
   "execution_count": null,
   "id": "eafa6b47",
   "metadata": {},
   "outputs": [],
   "source": []
  },
  {
   "cell_type": "code",
   "execution_count": null,
   "id": "4aa88979",
   "metadata": {},
   "outputs": [],
   "source": []
  },
  {
   "cell_type": "code",
   "execution_count": null,
   "id": "8f355450",
   "metadata": {},
   "outputs": [],
   "source": []
  },
  {
   "cell_type": "code",
   "execution_count": null,
   "id": "f94dec0a",
   "metadata": {},
   "outputs": [],
   "source": []
  },
  {
   "cell_type": "code",
   "execution_count": null,
   "id": "6be0f70c",
   "metadata": {},
   "outputs": [],
   "source": []
  },
  {
   "cell_type": "code",
   "execution_count": null,
   "id": "0a1d6c9e",
   "metadata": {},
   "outputs": [],
   "source": []
  }
 ],
 "metadata": {
  "kernelspec": {
   "display_name": "Python 3 (ipykernel)",
   "language": "python",
   "name": "python3"
  },
  "language_info": {
   "codemirror_mode": {
    "name": "ipython",
    "version": 3
   },
   "file_extension": ".py",
   "mimetype": "text/x-python",
   "name": "python",
   "nbconvert_exporter": "python",
   "pygments_lexer": "ipython3",
   "version": "3.9.12"
  }
 },
 "nbformat": 4,
 "nbformat_minor": 5
}
